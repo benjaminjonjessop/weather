{
 "cells": [
  {
   "cell_type": "code",
   "execution_count": null,
   "id": "dacec00d-fc8a-4cfd-989a-cdbeb68d207d",
   "metadata": {},
   "outputs": [],
   "source": []
  }
 ],
 "metadata": {
  "kernelspec": {
   "display_name": "",
   "name": ""
  },
  "language_info": {
   "name": ""
  }
 },
 "nbformat": 4,
 "nbformat_minor": 5
}
